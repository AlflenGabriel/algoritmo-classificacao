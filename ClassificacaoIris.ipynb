{
  "nbformat": 4,
  "nbformat_minor": 0,
  "metadata": {
    "colab": {
      "provenance": [],
      "include_colab_link": true
    },
    "kernelspec": {
      "name": "python3",
      "display_name": "Python 3"
    }
  },
  "cells": [
    {
      "cell_type": "markdown",
      "metadata": {
        "id": "view-in-github",
        "colab_type": "text"
      },
      "source": [
        "<a href=\"https://colab.research.google.com/github/AlflenGabriel/algoritmo-classificacao/blob/main/ClassificacaoIris.ipynb\" target=\"_parent\"><img src=\"https://colab.research.google.com/assets/colab-badge.svg\" alt=\"Open In Colab\"/></a>"
      ]
    },
    {
      "cell_type": "code",
      "metadata": {
        "id": "SGRkBbI5a5hl",
        "colab": {
          "base_uri": "https://localhost:8080/"
        },
        "outputId": "4e5673b5-afeb-4256-cd7c-ed5c79f7cfa1"
      },
      "source": [
        "import pandas as pd\n",
        "nameColumns = ['SepalLength','SepalWidth','PetalLength','PetalWidth', 'Class']\n",
        "dataFrame = pd.read_csv('/content/iris.data', names = nameColumns)\n",
        "print(\"Linhas: %d, Colunas: %d\" % (len(dataFrame), len(dataFrame.columns)))"
      ],
      "execution_count": null,
      "outputs": [
        {
          "output_type": "stream",
          "text": [
            "Linhas: 150, Colunas: 5\n"
          ],
          "name": "stdout"
        }
      ]
    },
    {
      "cell_type": "markdown",
      "metadata": {
        "id": "hCQemgXneS-R"
      },
      "source": [
        "Vamos visualizar as primeiras linhas do data frame"
      ]
    },
    {
      "cell_type": "code",
      "metadata": {
        "id": "2GiVbgR2eZhs",
        "colab": {
          "base_uri": "https://localhost:8080/",
          "height": 198
        },
        "outputId": "20fdb68a-fce9-4283-ccff-d66f1fcb2cbc"
      },
      "source": [
        "dataFrame.head()"
      ],
      "execution_count": null,
      "outputs": [
        {
          "output_type": "execute_result",
          "data": {
            "text/html": [
              "<div>\n",
              "<style scoped>\n",
              "    .dataframe tbody tr th:only-of-type {\n",
              "        vertical-align: middle;\n",
              "    }\n",
              "\n",
              "    .dataframe tbody tr th {\n",
              "        vertical-align: top;\n",
              "    }\n",
              "\n",
              "    .dataframe thead th {\n",
              "        text-align: right;\n",
              "    }\n",
              "</style>\n",
              "<table border=\"1\" class=\"dataframe\">\n",
              "  <thead>\n",
              "    <tr style=\"text-align: right;\">\n",
              "      <th></th>\n",
              "      <th>SepalLength</th>\n",
              "      <th>SepalWidth</th>\n",
              "      <th>PetalLength</th>\n",
              "      <th>PetalWidth</th>\n",
              "      <th>Class</th>\n",
              "    </tr>\n",
              "  </thead>\n",
              "  <tbody>\n",
              "    <tr>\n",
              "      <th>0</th>\n",
              "      <td>5.1</td>\n",
              "      <td>3.5</td>\n",
              "      <td>1.4</td>\n",
              "      <td>0.2</td>\n",
              "      <td>Iris-setosa</td>\n",
              "    </tr>\n",
              "    <tr>\n",
              "      <th>1</th>\n",
              "      <td>4.9</td>\n",
              "      <td>3.0</td>\n",
              "      <td>1.4</td>\n",
              "      <td>0.2</td>\n",
              "      <td>Iris-setosa</td>\n",
              "    </tr>\n",
              "    <tr>\n",
              "      <th>2</th>\n",
              "      <td>4.7</td>\n",
              "      <td>3.2</td>\n",
              "      <td>1.3</td>\n",
              "      <td>0.2</td>\n",
              "      <td>Iris-setosa</td>\n",
              "    </tr>\n",
              "    <tr>\n",
              "      <th>3</th>\n",
              "      <td>4.6</td>\n",
              "      <td>3.1</td>\n",
              "      <td>1.5</td>\n",
              "      <td>0.2</td>\n",
              "      <td>Iris-setosa</td>\n",
              "    </tr>\n",
              "    <tr>\n",
              "      <th>4</th>\n",
              "      <td>5.0</td>\n",
              "      <td>3.6</td>\n",
              "      <td>1.4</td>\n",
              "      <td>0.2</td>\n",
              "      <td>Iris-setosa</td>\n",
              "    </tr>\n",
              "  </tbody>\n",
              "</table>\n",
              "</div>"
            ],
            "text/plain": [
              "   SepalLength  SepalWidth  PetalLength  PetalWidth        Class\n",
              "0          5.1         3.5          1.4         0.2  Iris-setosa\n",
              "1          4.9         3.0          1.4         0.2  Iris-setosa\n",
              "2          4.7         3.2          1.3         0.2  Iris-setosa\n",
              "3          4.6         3.1          1.5         0.2  Iris-setosa\n",
              "4          5.0         3.6          1.4         0.2  Iris-setosa"
            ]
          },
          "metadata": {
            "tags": []
          },
          "execution_count": 2
        }
      ]
    },
    {
      "cell_type": "markdown",
      "metadata": {
        "id": "6IpsLkX9YKoT"
      },
      "source": [
        "Vamos contar quantas flores de cada categoria há no dataframe.\n",
        "Quantas setosa? Quantas versicolor? Quantas virginca?"
      ]
    },
    {
      "cell_type": "code",
      "metadata": {
        "id": "hKoHVQtaYkOK",
        "colab": {
          "base_uri": "https://localhost:8080/"
        },
        "outputId": "64b2a0a7-e88e-4f0c-f49b-31e028779ee3"
      },
      "source": [
        "dataFrame['Class'].value_counts()"
      ],
      "execution_count": null,
      "outputs": [
        {
          "output_type": "execute_result",
          "data": {
            "text/plain": [
              "Iris-setosa        50\n",
              "Iris-virginica     50\n",
              "Iris-versicolor    50\n",
              "Name: Class, dtype: int64"
            ]
          },
          "metadata": {
            "tags": []
          },
          "execution_count": 3
        }
      ]
    },
    {
      "cell_type": "markdown",
      "metadata": {
        "id": "qvJ6N_XbZOED"
      },
      "source": [
        "Agora que vimos os quantitativos de cada classe, vamos mostrar isso em um gráfico."
      ]
    },
    {
      "cell_type": "code",
      "metadata": {
        "id": "fDDfcey9ZT8J",
        "colab": {
          "base_uri": "https://localhost:8080/",
          "height": 265
        },
        "outputId": "47719dae-1b88-4749-c0d1-455cb487fc6f"
      },
      "source": [
        "dataFrame['Class'].value_counts().plot(kind='pie')"
      ],
      "execution_count": null,
      "outputs": [
        {
          "output_type": "execute_result",
          "data": {
            "text/plain": [
              "<matplotlib.axes._subplots.AxesSubplot at 0x7f09aa21af90>"
            ]
          },
          "metadata": {
            "tags": []
          },
          "execution_count": 4
        },
        {
          "output_type": "display_data",
          "data": {
            "image/png": "[encoded data removed]",
            "text/plain": [
              "<Figure size 432x288 with 1 Axes>"
            ]
          },
          "metadata": {
            "tags": []
          }
        }
      ]
    },
    {
      "cell_type": "markdown",
      "metadata": {
        "id": "VkOv63xDaoX_"
      },
      "source": [
        "Vamos enriquecer o nosso dataframe criando mais duas colunas."
      ]
    },
    {
      "cell_type": "code",
      "metadata": {
        "id": "v-v5q56pbIcn",
        "colab": {
          "base_uri": "https://localhost:8080/",
          "height": 198
        },
        "outputId": "27ed2d71-0616-490d-827e-0c7a1e4878cc"
      },
      "source": [
        "dataFrame['SepalArea']=dataFrame['SepalLength']*dataFrame['SepalWidth']\n",
        "dataFrame['PetalArea']=dataFrame['PetalLength']*dataFrame['PetalWidth']\n",
        "dataFrame.head()\n",
        "#dataFrame[['SepalLength','Class', 'SepalWidth']]"
      ],
      "execution_count": null,
      "outputs": [
        {
          "output_type": "execute_result",
          "data": {
            "text/html": [
              "<div>\n",
              "<style scoped>\n",
              "    .dataframe tbody tr th:only-of-type {\n",
              "        vertical-align: middle;\n",
              "    }\n",
              "\n",
              "    .dataframe tbody tr th {\n",
              "        vertical-align: top;\n",
              "    }\n",
              "\n",
              "    .dataframe thead th {\n",
              "        text-align: right;\n",
              "    }\n",
              "</style>\n",
              "<table border=\"1\" class=\"dataframe\">\n",
              "  <thead>\n",
              "    <tr style=\"text-align: right;\">\n",
              "      <th></th>\n",
              "      <th>SepalLength</th>\n",
              "      <th>SepalWidth</th>\n",
              "      <th>PetalLength</th>\n",
              "      <th>PetalWidth</th>\n",
              "      <th>Class</th>\n",
              "      <th>SepalArea</th>\n",
              "      <th>PetalArea</th>\n",
              "    </tr>\n",
              "  </thead>\n",
              "  <tbody>\n",
              "    <tr>\n",
              "      <th>0</th>\n",
              "      <td>5.1</td>\n",
              "      <td>3.5</td>\n",
              "      <td>1.4</td>\n",
              "      <td>0.2</td>\n",
              "      <td>Iris-setosa</td>\n",
              "      <td>17.85</td>\n",
              "      <td>0.28</td>\n",
              "    </tr>\n",
              "    <tr>\n",
              "      <th>1</th>\n",
              "      <td>4.9</td>\n",
              "      <td>3.0</td>\n",
              "      <td>1.4</td>\n",
              "      <td>0.2</td>\n",
              "      <td>Iris-setosa</td>\n",
              "      <td>14.70</td>\n",
              "      <td>0.28</td>\n",
              "    </tr>\n",
              "    <tr>\n",
              "      <th>2</th>\n",
              "      <td>4.7</td>\n",
              "      <td>3.2</td>\n",
              "      <td>1.3</td>\n",
              "      <td>0.2</td>\n",
              "      <td>Iris-setosa</td>\n",
              "      <td>15.04</td>\n",
              "      <td>0.26</td>\n",
              "    </tr>\n",
              "    <tr>\n",
              "      <th>3</th>\n",
              "      <td>4.6</td>\n",
              "      <td>3.1</td>\n",
              "      <td>1.5</td>\n",
              "      <td>0.2</td>\n",
              "      <td>Iris-setosa</td>\n",
              "      <td>14.26</td>\n",
              "      <td>0.30</td>\n",
              "    </tr>\n",
              "    <tr>\n",
              "      <th>4</th>\n",
              "      <td>5.0</td>\n",
              "      <td>3.6</td>\n",
              "      <td>1.4</td>\n",
              "      <td>0.2</td>\n",
              "      <td>Iris-setosa</td>\n",
              "      <td>18.00</td>\n",
              "      <td>0.28</td>\n",
              "    </tr>\n",
              "  </tbody>\n",
              "</table>\n",
              "</div>"
            ],
            "text/plain": [
              "   SepalLength  SepalWidth  PetalLength  ...        Class SepalArea  PetalArea\n",
              "0          5.1         3.5          1.4  ...  Iris-setosa     17.85       0.28\n",
              "1          4.9         3.0          1.4  ...  Iris-setosa     14.70       0.28\n",
              "2          4.7         3.2          1.3  ...  Iris-setosa     15.04       0.26\n",
              "3          4.6         3.1          1.5  ...  Iris-setosa     14.26       0.30\n",
              "4          5.0         3.6          1.4  ...  Iris-setosa     18.00       0.28\n",
              "\n",
              "[5 rows x 7 columns]"
            ]
          },
          "metadata": {
            "tags": []
          },
          "execution_count": 5
        }
      ]
    },
    {
      "cell_type": "markdown",
      "metadata": {
        "id": "eS3SnGDwdOIP"
      },
      "source": [
        "Vamos ver mais um comandos do Python para nos ajudar a entender os dados."
      ]
    },
    {
      "cell_type": "code",
      "metadata": {
        "id": "o8XLRrwWdTYK",
        "colab": {
          "base_uri": "https://localhost:8080/"
        },
        "outputId": "395a9458-69a0-4bfa-dd06-b577d1b5e0fb"
      },
      "source": [
        "print(dataFrame['SepalLength'].min())\n",
        "print(dataFrame['SepalLength'].max())\n",
        "print(dataFrame['SepalLength'].mean())"
      ],
      "execution_count": null,
      "outputs": [
        {
          "output_type": "stream",
          "text": [
            "4.3\n",
            "7.9\n",
            "5.843333333333335\n"
          ],
          "name": "stdout"
        }
      ]
    },
    {
      "cell_type": "markdown",
      "metadata": {
        "id": "I6-B9aRFeo16"
      },
      "source": [
        "Vamos criar mais features."
      ]
    },
    {
      "cell_type": "code",
      "metadata": {
        "id": "j3JLBlamexjq",
        "colab": {
          "base_uri": "https://localhost:8080/",
          "height": 305
        },
        "outputId": "917c5c39-0e1b-4456-fce4-b36f0cd82225"
      },
      "source": [
        "dataFrame['SepalLengthAboveMean']=dataFrame['SepalLength']>dataFrame['SepalLength'].mean()\n",
        "dataFrame['SepalWidthAboveMean']=dataFrame['SepalWidth']>dataFrame['SepalWidth'].mean()\n",
        "dataFrame['PetalLengthAboveMean']=dataFrame['PetalLength']>dataFrame['PetalLength'].mean()\n",
        "dataFrame['PetalWidthAboveMean']=dataFrame['PetalWidth']>dataFrame['PetalWidth'].mean()\n",
        "dataFrame.head()"
      ],
      "execution_count": null,
      "outputs": [
        {
          "output_type": "execute_result",
          "data": {
            "text/html": [
              "<div>\n",
              "<style scoped>\n",
              "    .dataframe tbody tr th:only-of-type {\n",
              "        vertical-align: middle;\n",
              "    }\n",
              "\n",
              "    .dataframe tbody tr th {\n",
              "        vertical-align: top;\n",
              "    }\n",
              "\n",
              "    .dataframe thead th {\n",
              "        text-align: right;\n",
              "    }\n",
              "</style>\n",
              "<table border=\"1\" class=\"dataframe\">\n",
              "  <thead>\n",
              "    <tr style=\"text-align: right;\">\n",
              "      <th></th>\n",
              "      <th>SepalLength</th>\n",
              "      <th>SepalWidth</th>\n",
              "      <th>PetalLength</th>\n",
              "      <th>PetalWidth</th>\n",
              "      <th>Class</th>\n",
              "      <th>SepalArea</th>\n",
              "      <th>PetalArea</th>\n",
              "      <th>SepalLengthAboveMean</th>\n",
              "      <th>SepalWidthAboveMean</th>\n",
              "      <th>PetalLengthAboveMean</th>\n",
              "      <th>PetalWidthAboveMean</th>\n",
              "    </tr>\n",
              "  </thead>\n",
              "  <tbody>\n",
              "    <tr>\n",
              "      <th>0</th>\n",
              "      <td>5.1</td>\n",
              "      <td>3.5</td>\n",
              "      <td>1.4</td>\n",
              "      <td>0.2</td>\n",
              "      <td>Iris-setosa</td>\n",
              "      <td>17.85</td>\n",
              "      <td>0.28</td>\n",
              "      <td>False</td>\n",
              "      <td>True</td>\n",
              "      <td>False</td>\n",
              "      <td>False</td>\n",
              "    </tr>\n",
              "    <tr>\n",
              "      <th>1</th>\n",
              "      <td>4.9</td>\n",
              "      <td>3.0</td>\n",
              "      <td>1.4</td>\n",
              "      <td>0.2</td>\n",
              "      <td>Iris-setosa</td>\n",
              "      <td>14.70</td>\n",
              "      <td>0.28</td>\n",
              "      <td>False</td>\n",
              "      <td>False</td>\n",
              "      <td>False</td>\n",
              "      <td>False</td>\n",
              "    </tr>\n",
              "    <tr>\n",
              "      <th>2</th>\n",
              "      <td>4.7</td>\n",
              "      <td>3.2</td>\n",
              "      <td>1.3</td>\n",
              "      <td>0.2</td>\n",
              "      <td>Iris-setosa</td>\n",
              "      <td>15.04</td>\n",
              "      <td>0.26</td>\n",
              "      <td>False</td>\n",
              "      <td>True</td>\n",
              "      <td>False</td>\n",
              "      <td>False</td>\n",
              "    </tr>\n",
              "    <tr>\n",
              "      <th>3</th>\n",
              "      <td>4.6</td>\n",
              "      <td>3.1</td>\n",
              "      <td>1.5</td>\n",
              "      <td>0.2</td>\n",
              "      <td>Iris-setosa</td>\n",
              "      <td>14.26</td>\n",
              "      <td>0.30</td>\n",
              "      <td>False</td>\n",
              "      <td>True</td>\n",
              "      <td>False</td>\n",
              "      <td>False</td>\n",
              "    </tr>\n",
              "    <tr>\n",
              "      <th>4</th>\n",
              "      <td>5.0</td>\n",
              "      <td>3.6</td>\n",
              "      <td>1.4</td>\n",
              "      <td>0.2</td>\n",
              "      <td>Iris-setosa</td>\n",
              "      <td>18.00</td>\n",
              "      <td>0.28</td>\n",
              "      <td>False</td>\n",
              "      <td>True</td>\n",
              "      <td>False</td>\n",
              "      <td>False</td>\n",
              "    </tr>\n",
              "  </tbody>\n",
              "</table>\n",
              "</div>"
            ],
            "text/plain": [
              "   SepalLength  SepalWidth  ...  PetalLengthAboveMean  PetalWidthAboveMean\n",
              "0          5.1         3.5  ...                 False                False\n",
              "1          4.9         3.0  ...                 False                False\n",
              "2          4.7         3.2  ...                 False                False\n",
              "3          4.6         3.1  ...                 False                False\n",
              "4          5.0         3.6  ...                 False                False\n",
              "\n",
              "[5 rows x 11 columns]"
            ]
          },
          "metadata": {
            "tags": []
          },
          "execution_count": 7
        }
      ]
    },
    {
      "cell_type": "markdown",
      "metadata": {
        "id": "GsG85sWZgvtp"
      },
      "source": [
        "Agora que temos o dataframe com dados consistentes, vamos partir para a análise.\n",
        "1º passo: separar os valores das features."
      ]
    },
    {
      "cell_type": "code",
      "metadata": {
        "id": "4ekHo05ChEfw",
        "colab": {
          "base_uri": "https://localhost:8080/"
        },
        "outputId": "90a05cd6-e58c-4b8c-93c4-dd1428eefa17"
      },
      "source": [
        "features = dataFrame.columns.difference(['Class'])\n",
        "features"
      ],
      "execution_count": null,
      "outputs": [
        {
          "output_type": "execute_result",
          "data": {
            "text/plain": [
              "Index(['PetalArea', 'PetalLength', 'PetalLengthAboveMean', 'PetalWidth',\n",
              "       'PetalWidthAboveMean', 'SepalArea', 'SepalLength',\n",
              "       'SepalLengthAboveMean', 'SepalWidth', 'SepalWidthAboveMean'],\n",
              "      dtype='object')"
            ]
          },
          "metadata": {
            "tags": []
          },
          "execution_count": 8
        }
      ]
    },
    {
      "cell_type": "markdown",
      "metadata": {
        "id": "v7QSP2l8hhdZ"
      },
      "source": [
        "Na análise de dados, normalmente, criamos duas variáveis: X e y. A X contempla os valores das features e a y contempla os valores das classes."
      ]
    },
    {
      "cell_type": "code",
      "metadata": {
        "id": "-PH0n_sMhwNs",
        "colab": {
          "base_uri": "https://localhost:8080/"
        },
        "outputId": "5ce85bcf-e99f-40d7-cd0d-87c71b0491d6"
      },
      "source": [
        "#variáveis independetes\n",
        "X = dataFrame[features].values\n",
        "\n",
        "#variável dependente\n",
        "y = dataFrame['Class'].values\n",
        "\n",
        "print (X)"
      ],
      "execution_count": null,
      "outputs": [
        {
          "output_type": "stream",
          "text": [
            "[[0.27999999999999997 1.4 False ... False 3.5 True]\n",
            " [0.27999999999999997 1.4 False ... False 3.0 False]\n",
            " [0.26 1.3 False ... False 3.2 True]\n",
            " ...\n",
            " [10.4 5.2 True ... True 3.0 False]\n",
            " [12.42 5.4 True ... True 3.4 True]\n",
            " [9.18 5.1 True ... True 3.0 False]]\n"
          ],
          "name": "stdout"
        }
      ]
    },
    {
      "cell_type": "markdown",
      "metadata": {
        "id": "2WlEZ8N_kKV9"
      },
      "source": [
        "Agora vamos partir para a aplicação do algoritmo de aprendizagem de máquina. O primeiro passo será importar o algoritmo que irá criar a árvore de decisão."
      ]
    },
    {
      "cell_type": "code",
      "metadata": {
        "id": "kb7WxSLzkPPh"
      },
      "source": [
        "from sklearn.tree import DecisionTreeClassifier"
      ],
      "execution_count": null,
      "outputs": []
    },
    {
      "cell_type": "markdown",
      "metadata": {
        "id": "9G3JNaF6kqkc"
      },
      "source": [
        "Vamos gerar o objeto classificador. Este objeto irá utilizar os dados e criará a árvore a partir dos dados informados."
      ]
    },
    {
      "cell_type": "code",
      "metadata": {
        "id": "N0QgqWQkk2dI",
        "colab": {
          "base_uri": "https://localhost:8080/"
        },
        "outputId": "426de470-a251-4866-ca26-0b9fe1592571"
      },
      "source": [
        "#criação do objeto que fará a classificação\n",
        "classifier_dt = DecisionTreeClassifier(random_state=10, criterion='gini', max_depth=2)\n",
        "#Realização do treinamento para gerar a árvore a partir dos dados indenpentes (X) e depentende (y)\n",
        "classifier_dt.fit(X,y)"
      ],
      "execution_count": null,
      "outputs": [
        {
          "output_type": "execute_result",
          "data": {
            "text/plain": [
              "DecisionTreeClassifier(ccp_alpha=0.0, class_weight=None, criterion='gini',\n",
              "                       max_depth=2, max_features=None, max_leaf_nodes=None,\n",
              "                       min_impurity_decrease=0.0, min_impurity_split=None,\n",
              "                       min_samples_leaf=1, min_samples_split=2,\n",
              "                       min_weight_fraction_leaf=0.0, presort='deprecated',\n",
              "                       random_state=10, splitter='best')"
            ]
          },
          "metadata": {
            "tags": []
          },
          "execution_count": 11
        }
      ]
    },
    {
      "cell_type": "markdown",
      "metadata": {
        "id": "bbbfDHkDnRI1"
      },
      "source": [
        "Vamos ver a árvore que foi criada"
      ]
    },
    {
      "cell_type": "code",
      "metadata": {
        "id": "HZXOxkmGnTtE",
        "colab": {
          "base_uri": "https://localhost:8080/",
          "height": 436
        },
        "outputId": "a40bc14c-eddf-445b-e7ee-1b74efc41ac8"
      },
      "source": [
        "from IPython.display import Image\n",
        "from sklearn import tree\n",
        "import pydotplus\n",
        "\n",
        "# Create DOT data\n",
        "dot_data = tree.export_graphviz(classifier_dt, out_file=None,\n",
        "                                feature_names=features,\n",
        "                                class_names=dataFrame.Class.unique())\n",
        "\n",
        "# Draw graph\n",
        "graph = pydotplus.graph_from_dot_data(dot_data)\n",
        "\n",
        "# Show graph\n",
        "Image(graph.create_png())"
      ],
      "execution_count": null,
      "outputs": [
        {
          "output_type": "execute_result",
          "data": {
            "image/png": "[encoded data removed]",
            "text/plain": [
              "<IPython.core.display.Image object>"
            ]
          },
          "metadata": {
            "tags": []
          },
          "execution_count": 12
        }
      ]
    },
    {
      "cell_type": "markdown",
      "metadata": {
        "id": "RJ-cIggaTQjf"
      },
      "source": [
        "Vamos testar se o classificador está bom"
      ]
    },
    {
      "cell_type": "code",
      "metadata": {
        "id": "VOz4F1RaTWrr",
        "colab": {
          "base_uri": "https://localhost:8080/"
        },
        "outputId": "8b5aef1a-e8be-4333-f2a9-99667333c932"
      },
      "source": [
        "# Iris-setosa\n",
        "sample1 = [5.1,3.5,1.4,0.2,17.85,0.28, False, True, False, False]\n",
        "# Iris-versicolor\n",
        "sample2 = [7.0,3.2,4.7,1.4,22.40, 6.58, True, True, True, True]\n",
        "# Iris-virginica\n",
        "sample3 = [6.3,3.3,6.0,2.5,20.79, 15.00, True, True, True, True]\n",
        "#????\n",
        "sample4 = [2.3,5.3,8.0,10.5,25.80, 10.00, False, True, True, True]\n",
        "#????\n",
        "sample5 = [8.3,3.3,1.0,1.5,24.80, 1.00, False, True, False, False]\n",
        "sample = pd.DataFrame([sample1, sample2, sample3, sample4, sample5], columns = ['SepalLength','SepalWidth','PetalLength','PetalWidth','SepalArea','PetalArea','SepalLengthAboveMean','SepalWidthAboveMean','PetalLengthAboveMean','PetalWidthAboveMean'])\n",
        "sample = sample[features].values\n",
        "sample\n",
        "\n",
        "classifier_dt.predict(sample)"
      ],
      "execution_count": null,
      "outputs": [
        {
          "output_type": "execute_result",
          "data": {
            "text/plain": [
              "array(['Iris-setosa', 'Iris-versicolor', 'Iris-virginica',\n",
              "       'Iris-virginica', 'Iris-setosa'], dtype=object)"
            ]
          },
          "metadata": {
            "tags": []
          },
          "execution_count": 13
        }
      ]
    },
    {
      "cell_type": "markdown",
      "metadata": {
        "id": "fbvYD_RLUnxu"
      },
      "source": [
        "No algoritmo acima, utilizamos todos os registros para o treinamento que gerou a árvore. No entanto, isso não é aconselhável, pois pode resultar em overfitting.\n",
        "Para evitar overfitting, separamos parte da base para não entrar no escopo do treinamento para que seja utilizada para testar."
      ]
    },
    {
      "cell_type": "code",
      "metadata": {
        "id": "V83rIe_-Wpsk",
        "colab": {
          "base_uri": "https://localhost:8080/"
        },
        "outputId": "1596ea5c-1430-4f69-99aa-b15b8387c668"
      },
      "source": [
        "from sklearn.model_selection import train_test_split\n",
        "X_train, X_test, y_train, y_test = train_test_split(X, y, test_size=0.10)\n",
        "print(\"Quantida de linhas para treinamento: %d\" % (len(X_train)))\n",
        "print(\"Quantida de linhas  para teste:%d\" % (len(X_test)))"
      ],
      "execution_count": null,
      "outputs": [
        {
          "output_type": "stream",
          "text": [
            "Quantida de linhas para treinamento: 135\n",
            "Quantida de linhas  para teste:15\n"
          ],
          "name": "stdout"
        }
      ]
    },
    {
      "cell_type": "markdown",
      "metadata": {
        "id": "0gHVZdcHXfKV"
      },
      "source": [
        "Agora que separamos dados de treinamento dos de teste, vamos criar uma nova árvore."
      ]
    },
    {
      "cell_type": "code",
      "metadata": {
        "id": "Ul93lL6qXmek",
        "colab": {
          "base_uri": "https://localhost:8080/"
        },
        "outputId": "7a778bf2-574b-4c84-e28c-0e82c4dfd536"
      },
      "source": [
        "classifier_dt2 = DecisionTreeClassifier(random_state=10, criterion='gini', max_depth=2)\n",
        "#Realização do treinamento para gerar a árvore a partir dos dados indenpentes (X) e depentende (y)\n",
        "classifier_dt2.fit(X_train,y_train)"
      ],
      "execution_count": null,
      "outputs": [
        {
          "output_type": "execute_result",
          "data": {
            "text/plain": [
              "DecisionTreeClassifier(ccp_alpha=0.0, class_weight=None, criterion='gini',\n",
              "                       max_depth=2, max_features=None, max_leaf_nodes=None,\n",
              "                       min_impurity_decrease=0.0, min_impurity_split=None,\n",
              "                       min_samples_leaf=1, min_samples_split=2,\n",
              "                       min_weight_fraction_leaf=0.0, presort='deprecated',\n",
              "                       random_state=10, splitter='best')"
            ]
          },
          "metadata": {
            "tags": []
          },
          "execution_count": 15
        }
      ]
    },
    {
      "cell_type": "code",
      "metadata": {
        "id": "G3rv2zk_XyZi",
        "colab": {
          "base_uri": "https://localhost:8080/",
          "height": 436
        },
        "outputId": "019bfcdf-be58-4061-b6b5-e38aebc87781"
      },
      "source": [
        "from IPython.display import Image\n",
        "from sklearn import tree\n",
        "import pydotplus\n",
        "\n",
        "# Create DOT data\n",
        "dot_data = tree.export_graphviz(classifier_dt2, out_file=None,\n",
        "                                feature_names=features,\n",
        "                                class_names=dataFrame.Class.unique())\n",
        "\n",
        "# Draw graph\n",
        "graph = pydotplus.graph_from_dot_data(dot_data)\n",
        "\n",
        "# Show graph\n",
        "Image(graph.create_png())"
      ],
      "execution_count": null,
      "outputs": [
        {
          "output_type": "execute_result",
          "data": {
            "image/png": "[encoded data removed]",
            "text/plain": [
              "<IPython.core.display.Image object>"
            ]
          },
          "metadata": {
            "tags": []
          },
          "execution_count": 16
        }
      ]
    },
    {
      "cell_type": "code",
      "metadata": {
        "id": "dhguD7veXzyc"
      },
      "source": [],
      "execution_count": null,
      "outputs": []
    },
    {
      "cell_type": "markdown",
      "metadata": {
        "id": "k3tygv1AYzNh"
      },
      "source": [
        "Uma vez que a árvore foi gerada com os dados de treinamento, chegou a hora de utizarmos os dados separados para teste para validar a árvore que foi gerada"
      ]
    },
    {
      "cell_type": "code",
      "metadata": {
        "id": "XCS3wCAHY7Ow",
        "colab": {
          "base_uri": "https://localhost:8080/"
        },
        "outputId": "4c4cf85f-9c47-4ff9-e078-b0031b1453dd"
      },
      "source": [
        "from sklearn.metrics import accuracy_score\n",
        "print(X_test)\n",
        "#print(y_test) # valores reais\n",
        "y_pred = classifier_dt2.predict(X_test)\n",
        "y_pred\n",
        "accuracy = accuracy_score(y_test,y_pred)\n",
        "accuracy"
      ],
      "execution_count": null,
      "outputs": [
        {
          "output_type": "stream",
          "text": [
            "[[6.58 4.7 True 1.4 True 17.689999999999998 6.1 True 2.9 False]\n",
            " [6.58 4.7 True 1.4 True 22.400000000000002 7.0 True 3.2 True]\n",
            " [13.57 5.9 True 2.3 True 21.76 6.8 True 3.2 True]\n",
            " [5.33 4.1 True 1.3 True 15.959999999999999 5.7 False 2.8 False]\n",
            " [5.9799999999999995 4.6 True 1.3 True 19.139999999999997 6.6 True 2.9\n",
            "  False]\n",
            " [0.42 1.4 False 0.3 False 14.399999999999999 4.8 False 3.0 False]\n",
            " [5.46 3.9 True 1.4 True 14.040000000000001 5.2 False 2.7 False]\n",
            " [8.82 4.9 True 1.8 True 18.299999999999997 6.1 True 3.0 False]\n",
            " [0.44999999999999996 1.5 False 0.3 False 19.38 5.1 False 3.8 True]\n",
            " [4.1 4.1 True 1.0 False 15.66 5.8 False 2.7 False]\n",
            " [15.0 6.0 True 2.5 True 20.79 6.3 True 3.3 True]\n",
            " [9.5 5.0 True 1.9 True 15.75 6.3 True 2.5 False]\n",
            " [9.18 5.1 True 1.8 True 17.700000000000003 5.9 True 3.0 False]\n",
            " [10.8 6.0 True 1.8 True 23.040000000000003 7.2 True 3.2 True]\n",
            " [7.3500000000000005 4.9 True 1.5 True 21.39 6.9 True 3.1 True]]\n"
          ],
          "name": "stdout"
        },
        {
          "output_type": "execute_result",
          "data": {
            "text/plain": [
              "1.0"
            ]
          },
          "metadata": {
            "tags": []
          },
          "execution_count": 17
        }
      ]
    },
    {
      "cell_type": "code",
      "metadata": {
        "id": "QMVQNyvadvzu"
      },
      "source": [],
      "execution_count": null,
      "outputs": []
    }
  ]
}